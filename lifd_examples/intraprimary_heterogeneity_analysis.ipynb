{
 "cells": [
  {
   "cell_type": "code",
   "execution_count": 1,
   "metadata": {},
   "outputs": [
    {
     "name": "stderr",
     "output_type": "stream",
     "text": [
      "INFO:lifd.lifd:VarCode is used for mutation effect prediction.\n"
     ]
    }
   ],
   "source": [
    "import os\n",
    "import pandas as pd\n",
    "import numpy as np\n",
    "\n",
    "from lifd.lifd import LiFD, LIFD_COL, LIFD_SUP_COL, LIFD1_SUP_COL, LIFD2_SUP_COL\n",
    "from lifd.databases.hotspots_database import HotspotsDB\n",
    "from lifd.databases.cgi_database import CgiDB\n",
    "from lifd.databases.oncokb_database import OncoKBDB\n",
    "from lifd.databases.cosmic_db import CosmicDB\n",
    "from lifd.predictors.vep import Vep\n",
    "from lifd.predictors.candra import Candra\n",
    "from lifd.predictors.cravat import Cravat\n",
    "from lifd.predictors.cgi import Cgi\n",
    "from lifd.predictors.fathmm import FatHMM\n",
    "from lifd.settings import HOTSPOTS_FP, ONCOGENIC_VARS_FP, ONCOKB_ALLVARS_FP, COSMIC_VARS_FP, OUTPUT_DIR\n",
    "from lifd.utils import FUNC_COL, init"
   ]
  },
  {
   "cell_type": "markdown",
   "metadata": {},
   "source": [
    "##### Either create a ```cgi_settings.py``` file with this content and import it or manually set these variables here:\n",
    "```\n",
    "CGI_USER_ID = '<YOUR_CGI_USERNAME>'\n",
    "CGI_TOKEN = '<YOUR_CGI_TOKEN>'\n",
    "```"
   ]
  },
  {
   "cell_type": "code",
   "execution_count": 2,
   "metadata": {},
   "outputs": [
    {
     "name": "stderr",
     "output_type": "stream",
     "text": [
      "INFO:lifd.predictors.cgi:Successfully set new username reiter.j@gmail.com and token.\n",
      "INFO:lifd.utils:Output directory: /Users/reiter/workspaces/ped_gits/met_heterogeneity/analysis/lifd_examples/TMP\n"
     ]
    },
    {
     "name": "stdout",
     "output_type": "stream",
     "text": [
      "Read file with 231 variants in 36 subjects: SupplementaryTable1.xlsx\n"
     ]
    }
   ],
   "source": [
    "from cgi_settings import CGI_USER_ID, CGI_TOKEN\n",
    "# from lifd.excluded_module.cgi_settings import CGI_USER_ID, CGI_TOKEN\n",
    "# CGI_USER_ID = '<YOUR_CGI_USERNAME>'\n",
    "# CGI_TOKEN = '<YOUR_CGI_TOKEN>'\n",
    "Cgi.set_login(CGI_USER_ID, CGI_TOKEN)\n",
    "\n",
    "output_dir = init()\n",
    "\n",
    "reference_genome = 'hg19'\n",
    "suppl_table1_fp = 'SupplementaryTable1.xlsx'\n",
    "\n",
    "input_fp = suppl_table1_fp\n",
    "\n",
    "from pathlib import Path\n",
    "input_p = Path(input_fp)\n",
    "output_fn = '{}_LiFDed.xlsx'.format(input_p.stem)\n",
    "output_fp = os.path.join(input_p.parent, output_fn)\n",
    "\n",
    "if input_p.suffix == '.xlsx' or input_p.suffix == '.xls':\n",
    "    var_df = pd.read_excel(input_fp, comment='#')\n",
    "    var_df[FUNC_COL] = True\n",
    "    print('Read file with {} variants in {} subjects: {}'.format(\n",
    "        len(var_df), len(var_df.Subject.unique()), input_fp))"
   ]
  },
  {
   "cell_type": "code",
   "execution_count": 3,
   "metadata": {},
   "outputs": [
    {
     "name": "stderr",
     "output_type": "stream",
     "text": [
      "INFO:lifd.mutation_effects:Set reference genome to hg19.\n",
      "INFO:lifd.lifd:Using databases: Hotspots, CGI_Catalog, OncoKB, COSMIC\n",
      "INFO:lifd.lifd:Using predictors: Vep, Candra, Cravat, FatHMM, Cgi\n",
      "INFO:lifd.lifd:No file with driver genes was given. Using column with driver gene classification: TCGADrClf\n",
      "INFO:lifd.lifd:Initialized LiFD 0.1.0 with 4 databases and 5 predictors.\n"
     ]
    }
   ],
   "source": [
    "# set up databases for first phase of LiFD\n",
    "hs_db = HotspotsDB(HOTSPOTS_FP)\n",
    "cgi_db = CgiDB(ONCOGENIC_VARS_FP)\n",
    "oncokb_db = OncoKBDB(ONCOKB_ALLVARS_FP)\n",
    "cosmic_db = CosmicDB(COSMIC_VARS_FP)\n",
    "dbs = [hs_db, cgi_db, oncokb_db, cosmic_db\n",
    "      ]\n",
    "\n",
    "# set up predictors for second phase of LiFD\n",
    "prds = [Vep, Candra, Cravat, FatHMM, Cgi]\n",
    "# prds = [FatHMM]\n",
    "lifd = LiFD(databases=dbs, predictors=prds, driver_gene_fp=None, \n",
    "            driver_gene_col='TCGADrClf', \n",
    "#             driver_gene_col='TokheimDrClf',\n",
    "            reference_genome=reference_genome)"
   ]
  },
  {
   "cell_type": "code",
   "execution_count": 4,
   "metadata": {},
   "outputs": [
    {
     "data": {
      "text/plain": [
       "array(['CancerType', 'Subject', 'GeneSymbol', 'TCGADrClf', 'Clonality',\n",
       "       'LiFD', 'LiFD_support', 'MutationEffect', 'TokheimDrClf',\n",
       "       'PresenceProbs', 'SampleSimilarity', 'In_COSMIC',\n",
       "       'COSMIC_cnt_norm', 'In_Hotspots', 'In_OncoKB', 'oncoKB_actvar',\n",
       "       'In_CGI_Catalog', 'CGI_driver', 'CGI_predicted_driver',\n",
       "       'CGI_driver_gene', 'FATHMM_score', 'VEP_impact', 'CHASMplus_Score',\n",
       "       'CHASMplus_CT_Score', 'CHASMplus_Pvalue_corr',\n",
       "       'mlog_CHASMplus_Pvalue_corr', 'CHASMplus_CT_Pvalue_corr',\n",
       "       'mlog_CHASMplus_CT_Pvalue_corr', 'CanDrA_clf', 'CanDrA_score',\n",
       "       'CanDrA_sig', 'impact_high', 'MaybeFunctional'], dtype=object)"
      ]
     },
     "execution_count": 4,
     "metadata": {},
     "output_type": "execute_result"
    }
   ],
   "source": [
    "var_df.columns.values"
   ]
  },
  {
   "cell_type": "code",
   "execution_count": 4,
   "metadata": {},
   "outputs": [
    {
     "name": "stderr",
     "output_type": "stream",
     "text": [
      "INFO:lifd.lifd:LIFD output directory: /Users/reiter/workspaces/ped_gits/met_heterogeneity/analysis/lifd_examples/TMP\n",
      "INFO:lifd.lifd:LiFD predicts that 79 of 162 (48.8%) nonsynonymous or splice-site variants in driver genes are functional.\n",
      "INFO:lifd.lifd:Positive predictions of LiFD1 59/162 (36.4%)\n",
      "INFO:lifd.lifd:Positive predictions of LiFD2 45/162 (27.8%)\n",
      "INFO:lifd.lifd:Exported 231 annotated variants (79 LiFD) to TMP/SupplementaryTable1_LiFDed.xlsx.\n"
     ]
    }
   ],
   "source": [
    "# run LiFD on given dataframe\n",
    "var_df = lifd.run_lifd(var_df, output_dir=output_dir, export_fn=output_fn)"
   ]
  },
  {
   "cell_type": "code",
   "execution_count": 5,
   "metadata": {},
   "outputs": [
    {
     "name": "stdout",
     "output_type": "stream",
     "text": [
      "Number of clonal and subclonal nonsynonymous or splice site mutations in TCGA driver genes: 143 vs 19\n",
      "Number of clonal and subclonal LiFDs: 77 vs 2\n",
      "Mean number of clonal and subclonal LiFDs per subject: 2.1 vs 0.056\n"
     ]
    }
   ],
   "source": [
    "print('Number of clonal and subclonal nonsynonymous or splice site mutations in TCGA driver genes: {} vs {}'.format(\n",
    "    len(var_df[(var_df.Clonality == 'Clonal') & var_df.TCGADrClf]), \n",
    "    len(var_df[(var_df.Clonality == 'Subclonal') & var_df.TCGADrClf])))\n",
    "print('Number of clonal and subclonal LiFDs: {} vs {}'.format(\n",
    "    len(var_df[(var_df.Clonality == 'Clonal') & var_df.LiFD]), \n",
    "    len(var_df[(var_df.Clonality == 'Subclonal') & var_df.LiFD])))\n",
    "# note that variants that did not reach present or absent probabilities of at least 80% across\n",
    "# all samples were filtered out to minimize any biases from low sequencing depth or low neoplastic cell content\n",
    "\n",
    "# count number of functional drivers per subject\n",
    "# always use original dataframe to calculate means or medians because otherwise subjects with zero of \n",
    "# the considered mutations would be excluded from the summary statistic\n",
    "# for example, np.mean(lifd_df[(lifd_df.Clonality == 'Clonal')].groupby(['Subject'])['LiFD'].agg('count')) \n",
    "# gives 2.4 instead of 2.1 clonal LiFDs\n",
    "print('Mean number of clonal and subclonal LiFDs per subject: {:.2g} vs {:.2g}'.format(\n",
    "    np.mean(var_df.groupby(['Subject', 'LiFD', 'Clonality']).size().unstack(level=[1,2], fill_value=0)[True, 'Clonal']), \n",
    "    np.mean(var_df.groupby(['Subject', 'LiFD', 'Clonality']).size().unstack(level=[1,2], fill_value=0)[True, 'Subclonal'])))"
   ]
  },
  {
   "cell_type": "markdown",
   "metadata": {},
   "source": [
    "### Reanalyze data with a different driver gene list from Tokheim et al, PNAS 2016 (Table S1)"
   ]
  },
  {
   "cell_type": "code",
   "execution_count": 6,
   "metadata": {},
   "outputs": [
    {
     "name": "stderr",
     "output_type": "stream",
     "text": [
      "INFO:lifd.mutation_effects:Set reference genome to hg19.\n",
      "INFO:lifd.lifd:Using databases: Hotspots, CGI_Catalog, OncoKB, COSMIC\n",
      "INFO:lifd.lifd:Using predictors: Vep, Candra, Cravat, FatHMM, Cgi\n",
      "INFO:lifd.lifd:No file with driver genes was given. Using column with driver gene classification: TokheimDrClf\n",
      "INFO:lifd.lifd:Initialized LiFD 0.1.0 with 4 databases and 5 predictors.\n",
      "INFO:lifd.lifd:LIFD output directory: /Users/reiter/workspaces/ped_gits/met_heterogeneity/analysis/lifd_examples/TMP\n",
      "INFO:lifd.lifd:LiFD predicts that 78 of 191 (40.8%) nonsynonymous or splice-site variants in driver genes are functional.\n",
      "INFO:lifd.lifd:Positive predictions of LiFD1 57/191 (29.8%)\n",
      "INFO:lifd.lifd:Positive predictions of LiFD2 46/191 (24.1%)\n"
     ]
    }
   ],
   "source": [
    "lifd_tu = LiFD(databases=dbs, predictors=prds, driver_gene_fp=None, driver_gene_col='TokheimDrClf')\n",
    "var_tu_df = lifd_tu.run_lifd(var_df, output_dir=output_dir, export_fn=None)"
   ]
  },
  {
   "cell_type": "code",
   "execution_count": 7,
   "metadata": {},
   "outputs": [
    {
     "name": "stdout",
     "output_type": "stream",
     "text": [
      "Number of clonal and subclonal nonsynonymous or splice site mutations in TCGA driver genes: 160 vs 31\n",
      "Number of clonal and subclonal LiFDs: 75 vs 3\n",
      "Mean number of clonal and subclonal LiFDs per subject: 2.1 vs 0.083\n"
     ]
    }
   ],
   "source": [
    "print('Number of clonal and subclonal nonsynonymous or splice site mutations in TCGA driver genes: {} vs {}'.format(\n",
    "    len(var_tu_df[(var_tu_df.Clonality == 'Clonal') & var_tu_df.TokheimDrClf]), \n",
    "    len(var_tu_df[(var_tu_df.Clonality == 'Subclonal') & var_tu_df.TokheimDrClf])))\n",
    "print('Number of clonal and subclonal LiFDs: {} vs {}'.format(\n",
    "    len(var_tu_df[(var_tu_df.Clonality == 'Clonal') & var_tu_df.LiFD]), \n",
    "    len(var_tu_df[(var_tu_df.Clonality == 'Subclonal') & var_tu_df.LiFD])))\n",
    "\n",
    "# count number of functional drivers per subject\n",
    "print('Mean number of clonal and subclonal LiFDs per subject: {:.2g} vs {:.2g}'.format(\n",
    "    np.mean(var_tu_df.groupby(['Subject', 'LiFD', 'Clonality']).size().unstack(level=[1,2], fill_value=0)[True, 'Clonal']), \n",
    "    np.mean(var_tu_df.groupby(['Subject', 'LiFD', 'Clonality']).size().unstack(level=[1,2], fill_value=0)[True, 'Subclonal'])))"
   ]
  },
  {
   "cell_type": "code",
   "execution_count": null,
   "metadata": {},
   "outputs": [],
   "source": []
  }
 ],
 "metadata": {
  "kernelspec": {
   "display_name": "Python 3",
   "language": "python",
   "name": "python3"
  },
  "language_info": {
   "codemirror_mode": {
    "name": "ipython",
    "version": 3
   },
   "file_extension": ".py",
   "mimetype": "text/x-python",
   "name": "python",
   "nbconvert_exporter": "python",
   "pygments_lexer": "ipython3",
   "version": "3.6.8"
  }
 },
 "nbformat": 4,
 "nbformat_minor": 2
}
