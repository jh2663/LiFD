{
 "cells": [
  {
   "cell_type": "code",
   "execution_count": 1,
   "metadata": {},
   "outputs": [
    {
     "name": "stderr",
     "output_type": "stream",
     "text": [
      "INFO:lifd.lifd:VarCode is used for mutation effect prediction.\n"
     ]
    }
   ],
   "source": [
    "import os\n",
    "import pandas as pd\n",
    "from lifd.lifd import LiFD, LIFD_COL, LIFD_SUP_COL, LIFD1_SUP_COL, LIFD2_SUP_COL\n",
    "from lifd.databases.hotspots_database import HotspotsDB\n",
    "from lifd.databases.cgi_database import CgiDB\n",
    "from lifd.databases.oncokb_database import OncoKBDB\n",
    "from lifd.databases.cosmic_db import CosmicDB\n",
    "from lifd.predictors.vep import Vep\n",
    "from lifd.predictors.candra import Candra\n",
    "from lifd.predictors.cravat import Cravat\n",
    "from lifd.predictors.cgi import Cgi\n",
    "from lifd.predictors.fathmm import FatHMM\n",
    "from lifd.settings import HOTSPOTS_FP, ONCOGENIC_VARS_FP, ONCOKB_ALLVARS_FP, COSMIC_VARS_FP\n",
    "from lifd.utils import NT_VAR_COL, PT_VAR_COL, FUNC_COL, MUT_EFFECT_COL, init\n",
    "# from lifd.mutation_effects import get_mutation_details, annotate_effects"
   ]
  },
  {
   "cell_type": "code",
   "execution_count": 2,
   "metadata": {},
   "outputs": [
    {
     "name": "stderr",
     "output_type": "stream",
     "text": [
      "INFO:lifd.predictors.cgi:Successfully set new username reiter.j@gmail.com and token.\n",
      "INFO:lifd.utils:Output directory: /Users/reiter/workspaces/ped_gits/met_heterogeneity/analysis/lifd_examples/TMP\n"
     ]
    },
    {
     "name": "stdout",
     "output_type": "stream",
     "text": [
      "Read file with 7 variants: example_variants.xlsx\n"
     ]
    }
   ],
   "source": [
    "from cgi_settings import CGI_USER_ID, CGI_TOKEN\n",
    "# from lifd.excluded_module.cgi_settings import CGI_USER_ID, CGI_TOKEN\n",
    "# CGI_USER_ID = '<YOUR_CGI_USERNAME>'\n",
    "# CGI_TOKEN = '<YOUR_CGI_TOKEN>'\n",
    "Cgi.set_login(CGI_USER_ID, CGI_TOKEN)\n",
    "\n",
    "output_dir = init()\n",
    "\n",
    "# excel file with input variants\n",
    "input_fp = 'example_variants.xlsx'\n",
    "# CSV file with list of putative driver genes (e.g. TCGA consensus list, Bailey et al, Cell 2018)\n",
    "driver_gene_fp = 'BaileyDing2018_driverconsensus.csv'\n",
    "\n",
    "from pathlib import Path\n",
    "input_p = Path(input_fp)\n",
    "output_fn = '{}_LiFDed.xlsx'.format(input_p.stem)\n",
    "output_fp = os.path.join(input_p.parent, output_fn)\n",
    "\n",
    "if input_p.suffix == '.xlsx' or input_p.suffix == '.xls':\n",
    "    var_df = pd.read_excel(input_fp)\n",
    "    print('Read file with {} variants: {}'.format(len(var_df), input_fp))"
   ]
  },
  {
   "cell_type": "code",
   "execution_count": 3,
   "metadata": {},
   "outputs": [
    {
     "name": "stderr",
     "output_type": "stream",
     "text": [
      "INFO:lifd.mutation_effects:Set reference genome to hg19.\n",
      "INFO:lifd.lifd:Using databases: Hotspots, CGI_Catalog, OncoKB, COSMIC\n",
      "INFO:lifd.lifd:Using predictors: Vep, Candra, Cravat, FatHMM, Cgi\n",
      "INFO:lifd.lifd:Using 299 driver genes for annotation from /Users/reiter/databases/BaileyDing2018_driverconsensus.csv.\n",
      "INFO:lifd.lifd:Initialized LiFD 0.1.0 with 4 databases and 5 predictors.\n"
     ]
    }
   ],
   "source": [
    "# set up databases for first phase of LiFD\n",
    "hs_db = HotspotsDB(HOTSPOTS_FP)\n",
    "cgi_db = CgiDB(ONCOGENIC_VARS_FP)\n",
    "oncokb_db = OncoKBDB(ONCOKB_ALLVARS_FP)\n",
    "cosmic_db = CosmicDB(COSMIC_VARS_FP)\n",
    "dbs = [hs_db, cgi_db, oncokb_db, cosmic_db\n",
    "      ]\n",
    "\n",
    "# set up predictors for second phase of LiFD\n",
    "prds = [Vep, Candra, Cravat, FatHMM, Cgi]\n",
    "# prds = [FatHMM]\n",
    "lifd = LiFD(databases=dbs, predictors=prds, \n",
    "            driver_gene_fp=driver_gene_fp, driver_gene_col='TCGADrClf', )"
   ]
  },
  {
   "cell_type": "code",
   "execution_count": 4,
   "metadata": {},
   "outputs": [
    {
     "name": "stderr",
     "output_type": "stream",
     "text": [
      "INFO:pyensembl.sequence_data:Loaded sequence dictionary from /Users/reiter/Library/Caches/pyensembl/GRCh37/ensembl75/Homo_sapiens.GRCh37.75.cdna.all.fa.gz.pickle\n",
      "INFO:pyensembl.sequence_data:Loaded sequence dictionary from /Users/reiter/Library/Caches/pyensembl/GRCh37/ensembl75/Homo_sapiens.GRCh37.75.ncrna.fa.gz.pickle\n",
      "INFO:pyensembl.sequence_data:Loaded sequence dictionary from /Users/reiter/Library/Caches/pyensembl/GRCh37/ensembl75/Homo_sapiens.GRCh37.75.pep.all.fa.gz.pickle\n",
      "INFO:lifd.lifd:Added potentially functional driver gene mutation annotation to 4 variants.\n",
      "INFO:lifd.lifd:LIFD output directory: /Users/reiter/workspaces/ped_gits/met_heterogeneity/analysis/lifd_examples/TMP\n",
      "INFO:lifd.databases.hotspots_database:Reading database Hotspots from file /Users/reiter/databases/ChangTaylor_hotspots_cd2018_v2.xls.\n",
      "INFO:lifd.databases.hotspots_database:Loaded 2547 cancer hotspot variants from file /Users/reiter/databases/ChangTaylor_hotspots_cd2018_v2.xls.\n",
      "INFO:lifd.databases.cgi_database:Reading database CGI_Catalog from file /Users/reiter/databases/TamboreroLopezBigas_cgi_oncogenic_gm2018.tsv.\n",
      "INFO:lifd.databases.cgi_database:Loaded 5601 CGI oncogenic variants from file /Users/reiter/databases/TamboreroLopezBigas_cgi_oncogenic_gm2018.tsv.\n",
      "INFO:lifd.databases.oncokb_database:Reading database OncoKB from file /Users/reiter/databases/oncoKB_allAnnotatedVariants_v1.18.txt.\n",
      "INFO:lifd.databases.oncokb_database:Loaded 3509 annotated oncogenic variants in OncoKB from file /Users/reiter/databases/oncoKB_allAnnotatedVariants_v1.18.txt.\n",
      "INFO:lifd.databases.cosmic_db:Reading database COSMIC from file /Users/reiter/databases/CosmicGenomeScreensMutantExport_grch37_v87.tsv.\n",
      "INFO:lifd.databases.cosmic_db:Read previously processed genome/exome-wide sequencing data of COSMIC samples with in total 6049070 distinct mutations.\n",
      "WARNING:lifd.predictors.vep:Found 2 duplicates in VEP output according to the NtVarKey!\n",
      "INFO:lifd.predictors.vep:Loaded 5 VEP annotated variants from file TMP/PAAD_vep_output.tsv.\n",
      "INFO:lifd.utils:Added column PolyPhen with 4 values for 6 entries.\n",
      "INFO:lifd.utils:Added column Sift with 4 values for 6 entries.\n",
      "INFO:lifd.utils:Added column VEP_impact with 6 values for 6 entries.\n",
      "INFO:lifd.predictors.candra:Read CanDrA output file with 5 lines: TMP/PAAD_candra_output.tsv\n",
      "INFO:lifd.predictors.candra:Loaded 4 CanDrA annotated variants from file TMP/PAAD_candra_output.tsv.\n",
      "INFO:lifd.utils:Added column CanDrA_score with 4 values for 6 entries.\n",
      "INFO:lifd.utils:Added column CanDrA_clf with 4 values for 6 entries.\n",
      "INFO:lifd.utils:Added column CanDrA_sig with 4 values for 6 entries.\n",
      "INFO:lifd.predictors.cravat:Loaded 5 CRAVAT annotated variants from file /Users/reiter/workspaces/ped_gits/met_heterogeneity/analysis/lifd_examples/TMP/PAAD_cravat_output.xlsx.\n",
      "INFO:lifd.utils:Added column CHASMplus_Pvalue with 4 values for 6 entries.\n",
      "INFO:lifd.utils:Added column CHASMplus_Score with 4 values for 6 entries.\n",
      "INFO:lifd.utils:Added column CHASMplus_CT_Pvalue with 4 values for 6 entries.\n",
      "INFO:lifd.utils:Added column CHASMplus_CT_Score with 4 values for 6 entries.\n",
      "INFO:lifd.utils:Added column CHASMplus_Pvalue_corr with 4 values for 6 entries.\n",
      "INFO:lifd.utils:Added column CHASMplus_CT_Pvalue_corr with 4 values for 6 entries.\n",
      "INFO:lifd.predictors.fathmm:Loaded 3 FATHMM annotated variants.\n",
      "INFO:lifd.utils:Added column FATHMM_score with 4 values for 6 entries.\n",
      "WARNING:lifd.predictors.fathmm:Only 4 FATHMM predictions found for case PAAD but 6 IDs.\n",
      "INFO:lifd.predictors.cgi:Loaded 6 CGI annotated variants from file /Users/reiter/workspaces/ped_gits/met_heterogeneity/analysis/lifd_examples/TMP/PAAD_cgi_output.zip.\n",
      "INFO:lifd.utils:Added column cadd_phred with 6 values for 6 entries.\n",
      "INFO:lifd.utils:Added column CGI_driver with 6 values for 6 entries.\n",
      "INFO:lifd.utils:Added column CGI_known_driver with 6 values for 6 entries.\n",
      "INFO:lifd.utils:Added column CGI_predicted_driver with 6 values for 6 entries.\n",
      "INFO:lifd.utils:Added column CGI_driver_gene with 4 values for 6 entries.\n",
      "INFO:lifd.utils:Added column CGI_driver_gene_source with 4 values for 6 entries.\n",
      "INFO:lifd.utils:Added column CGI_gene_role with 4 values for 6 entries.\n",
      "INFO:lifd.utils:Added column CGI_driver_mut_prediction with 6 values for 6 entries.\n",
      "INFO:lifd.lifd:LiFD predicts that 4 of 4 (100.0%) nonsynonymous or splice-site variants in driver genes are functional.\n",
      "INFO:lifd.lifd:Positive predictions of LiFD1 3/4 (75.0%)\n",
      "INFO:lifd.lifd:Positive predictions of LiFD2 1/4 (25.0%)\n",
      "INFO:lifd.lifd:Exported 7 annotated variants (4 LiFD) to TMP/example_variants_LiFDed.xlsx.\n"
     ]
    }
   ],
   "source": [
    "var_df = lifd.run_lifd(var_df, output_dir=output_dir, export_fn=output_fn)"
   ]
  },
  {
   "cell_type": "code",
   "execution_count": null,
   "metadata": {},
   "outputs": [],
   "source": [
    "var_df"
   ]
  },
  {
   "cell_type": "code",
   "execution_count": null,
   "metadata": {},
   "outputs": [],
   "source": [
    "var_df.columns.values"
   ]
  },
  {
   "cell_type": "code",
   "execution_count": null,
   "metadata": {},
   "outputs": [],
   "source": []
  }
 ],
 "metadata": {
  "kernelspec": {
   "display_name": "Python 3",
   "language": "python",
   "name": "python3"
  },
  "language_info": {
   "codemirror_mode": {
    "name": "ipython",
    "version": 3
   },
   "file_extension": ".py",
   "mimetype": "text/x-python",
   "name": "python",
   "nbconvert_exporter": "python",
   "pygments_lexer": "ipython3",
   "version": "3.6.5"
  }
 },
 "nbformat": 4,
 "nbformat_minor": 2
}
